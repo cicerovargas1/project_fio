{
 "cells": [
  {
   "cell_type": "code",
   "execution_count": 1,
   "id": "b3b22af4",
   "metadata": {},
   "outputs": [],
   "source": [
    "import pandas as pd\n",
    "import numpy as np\n",
    "import matplotlib.pyplot as plt\n",
    "import seaborn as sns"
   ]
  },
  {
   "cell_type": "code",
   "execution_count": null,
   "id": "6233edd7",
   "metadata": {},
   "outputs": [],
   "source": [
    "!pwd"
   ]
  },
  {
   "cell_type": "markdown",
   "id": "ab3eedc9",
   "metadata": {},
   "source": [
    "# CSV : Desempenho das Vendas"
   ]
  },
  {
   "cell_type": "markdown",
   "id": "6cb7fdcc",
   "metadata": {},
   "source": [
    "# Informações do CSV :\n",
    "\n",
    "No google analytics para acessar essa tabela: Conversões --> E-commerce --> Desempenho de vendas\n",
    "\n",
    "Os dados são referentes a Desempenho de vendas, retirados do google analytics datados de 01/12/2020 até 23/08/2022...\n",
    "\n",
    "Colunas:\n",
    "\n",
    "1 - Receita: O total de receitas do comércio eletrónico na Web ou das transações na aplicação. Dependendo da sua implementação, isto pode incluir impostos e envio\n",
    "\n",
    "2 - Imposto : Total das cobranças de imposto referentes às transações de comércio eletrónico.\n",
    "\n",
    "3 - Frete: O total dos custos de envio com as transações de comércio eletrónico.\n",
    "\n",
    "4 - Valor do Reembolso: Valor na moeda reembolsado para uma transação.\n",
    "\n",
    "5 - Quantidade: Número de unidades vendidas em transações de comércio eletrónico."
   ]
  },
  {
   "cell_type": "markdown",
   "id": "af73a664",
   "metadata": {},
   "source": [
    "# Funções"
   ]
  },
  {
   "cell_type": "code",
   "execution_count": 2,
   "id": "503e3d22",
   "metadata": {},
   "outputs": [],
   "source": [
    "def replace_comma(x): #substitui ponto por nada\n",
    "    return float(x.replace('R$', '').replace('.', '').replace(',', '.'))\n",
    "\n"
   ]
  },
  {
   "cell_type": "code",
   "execution_count": 10,
   "id": "1f51dd50",
   "metadata": {},
   "outputs": [],
   "source": [
    "def data_to_string(x): #20220126\n",
    "    x = str(x)\n",
    "    x = x[:-2]\n",
    "    return x"
   ]
  },
  {
   "cell_type": "markdown",
   "id": "54430a0c",
   "metadata": {},
   "source": [
    "# Organizando dataset\n",
    "\n",
    "- Mudando valores em dinheiro para float e data para datetime\n",
    "-\n"
   ]
  },
  {
   "cell_type": "code",
   "execution_count": 59,
   "id": "35ff5cfe",
   "metadata": {
    "scrolled": false
   },
   "outputs": [
    {
     "data": {
      "text/html": [
       "<div>\n",
       "<style scoped>\n",
       "    .dataframe tbody tr th:only-of-type {\n",
       "        vertical-align: middle;\n",
       "    }\n",
       "\n",
       "    .dataframe tbody tr th {\n",
       "        vertical-align: top;\n",
       "    }\n",
       "\n",
       "    .dataframe thead th {\n",
       "        text-align: right;\n",
       "    }\n",
       "</style>\n",
       "<table border=\"1\" class=\"dataframe\">\n",
       "  <thead>\n",
       "    <tr style=\"text-align: right;\">\n",
       "      <th></th>\n",
       "      <th>ID da transação</th>\n",
       "      <th>Data</th>\n",
       "      <th>Receita</th>\n",
       "      <th>Imposto</th>\n",
       "      <th>Frete</th>\n",
       "      <th>Valor do reembolso</th>\n",
       "      <th>Quantidade</th>\n",
       "    </tr>\n",
       "  </thead>\n",
       "  <tbody>\n",
       "    <tr>\n",
       "      <th>0</th>\n",
       "      <td>11349</td>\n",
       "      <td>20220126.0</td>\n",
       "      <td>R$ 0,00</td>\n",
       "      <td>R$ 0,00</td>\n",
       "      <td>R$ 0,00</td>\n",
       "      <td>R$ 0,00</td>\n",
       "      <td>4.0</td>\n",
       "    </tr>\n",
       "    <tr>\n",
       "      <th>1</th>\n",
       "      <td>10720</td>\n",
       "      <td>20210412.0</td>\n",
       "      <td>R$ 15,94</td>\n",
       "      <td>R$ 0,00</td>\n",
       "      <td>R$ 0,00</td>\n",
       "      <td>R$ 0,00</td>\n",
       "      <td>1.0</td>\n",
       "    </tr>\n",
       "    <tr>\n",
       "      <th>2</th>\n",
       "      <td>10735</td>\n",
       "      <td>20210417.0</td>\n",
       "      <td>R$ 16,06</td>\n",
       "      <td>R$ 0,00</td>\n",
       "      <td>R$ 0,00</td>\n",
       "      <td>R$ 0,00</td>\n",
       "      <td>1.0</td>\n",
       "    </tr>\n",
       "    <tr>\n",
       "      <th>3</th>\n",
       "      <td>10742</td>\n",
       "      <td>20210419.0</td>\n",
       "      <td>R$ 16,06</td>\n",
       "      <td>R$ 0,00</td>\n",
       "      <td>R$ 0,00</td>\n",
       "      <td>R$ 0,00</td>\n",
       "      <td>1.0</td>\n",
       "    </tr>\n",
       "    <tr>\n",
       "      <th>4</th>\n",
       "      <td>10732</td>\n",
       "      <td>20210416.0</td>\n",
       "      <td>R$ 20,48</td>\n",
       "      <td>R$ 0,00</td>\n",
       "      <td>R$ 0,00</td>\n",
       "      <td>R$ 0,00</td>\n",
       "      <td>1.0</td>\n",
       "    </tr>\n",
       "  </tbody>\n",
       "</table>\n",
       "</div>"
      ],
      "text/plain": [
       "  ID da transação        Data   Receita  Imposto    Frete Valor do reembolso  \\\n",
       "0           11349  20220126.0   R$ 0,00  R$ 0,00  R$ 0,00            R$ 0,00   \n",
       "1           10720  20210412.0  R$ 15,94  R$ 0,00  R$ 0,00            R$ 0,00   \n",
       "2           10735  20210417.0  R$ 16,06  R$ 0,00  R$ 0,00            R$ 0,00   \n",
       "3           10742  20210419.0  R$ 16,06  R$ 0,00  R$ 0,00            R$ 0,00   \n",
       "4           10732  20210416.0  R$ 20,48  R$ 0,00  R$ 0,00            R$ 0,00   \n",
       "\n",
       "   Quantidade  \n",
       "0         4.0  \n",
       "1         1.0  \n",
       "2         1.0  \n",
       "3         1.0  \n",
       "4         1.0  "
      ]
     },
     "execution_count": 59,
     "metadata": {},
     "output_type": "execute_result"
    }
   ],
   "source": [
    "df_vendas = pd.read_csv('../raw_data/Google_Analytics/Analytics All Web Site Data Desempenho de vendas 20201201-20220823 (3).csv')\n",
    "df_vendas.head()"
   ]
  },
  {
   "cell_type": "code",
   "execution_count": 5,
   "id": "2d471408",
   "metadata": {
    "scrolled": true
   },
   "outputs": [
    {
     "name": "stdout",
     "output_type": "stream",
     "text": [
      "<class 'pandas.core.frame.DataFrame'>\n",
      "RangeIndex: 759 entries, 0 to 758\n",
      "Data columns (total 7 columns):\n",
      " #   Column              Non-Null Count  Dtype  \n",
      "---  ------              --------------  -----  \n",
      " 0   ID da transação     758 non-null    object \n",
      " 1   Data                758 non-null    float64\n",
      " 2   Receita             759 non-null    object \n",
      " 3   Imposto             759 non-null    object \n",
      " 4   Frete               759 non-null    object \n",
      " 5   Valor do reembolso  759 non-null    object \n",
      " 6   Quantidade          759 non-null    float64\n",
      "dtypes: float64(2), object(5)\n",
      "memory usage: 41.6+ KB\n"
     ]
    }
   ],
   "source": [
    "df_vendas.info()"
   ]
  },
  {
   "cell_type": "code",
   "execution_count": 12,
   "id": "45347617",
   "metadata": {},
   "outputs": [
    {
     "data": {
      "text/plain": [
       "0      20220126\n",
       "1      20210412\n",
       "2      20210417\n",
       "3      20210419\n",
       "4      20210416\n",
       "         ...   \n",
       "754    20211115\n",
       "755    20211203\n",
       "756    20211201\n",
       "757    20211207\n",
       "758           n\n",
       "Name: Data, Length: 759, dtype: object"
      ]
     },
     "execution_count": 12,
     "metadata": {},
     "output_type": "execute_result"
    }
   ],
   "source": [
    "#Convertendo data(float) para data(string)\n",
    "df_vendas['Data'] = df_vendas['Data'].map(data_to_string)\n",
    "df_vendas['Data']"
   ]
  },
  {
   "cell_type": "code",
   "execution_count": 14,
   "id": "ca88968e",
   "metadata": {},
   "outputs": [],
   "source": [
    "#Removendo ultima linha que representa soma da receita e quantidades\n",
    "df_vendas = df_vendas.drop(index=758)"
   ]
  },
  {
   "cell_type": "code",
   "execution_count": 16,
   "id": "998fb65a",
   "metadata": {
    "scrolled": true
   },
   "outputs": [
    {
     "data": {
      "text/plain": [
       "0     2022-01-26\n",
       "1     2021-04-12\n",
       "2     2021-04-17\n",
       "3     2021-04-19\n",
       "4     2021-04-16\n",
       "         ...    \n",
       "753   2022-05-31\n",
       "754   2021-11-15\n",
       "755   2021-12-03\n",
       "756   2021-12-01\n",
       "757   2021-12-07\n",
       "Name: Data, Length: 758, dtype: datetime64[ns]"
      ]
     },
     "execution_count": 16,
     "metadata": {},
     "output_type": "execute_result"
    }
   ],
   "source": [
    "#Transformando data(string) para data(datetime)\n",
    "df_vendas['Data']= pd.to_datetime(df_vendas['Data'], format='%Y%m%d')\n",
    "df_vendas['Data']"
   ]
  },
  {
   "cell_type": "code",
   "execution_count": 17,
   "id": "fda2e36b",
   "metadata": {},
   "outputs": [],
   "source": [
    "df_vendas.drop(columns=['Imposto', 'Frete', 'Valor do reembolso'], inplace=True)"
   ]
  },
  {
   "cell_type": "code",
   "execution_count": 18,
   "id": "c8c95d5a",
   "metadata": {},
   "outputs": [
    {
     "name": "stdout",
     "output_type": "stream",
     "text": [
      "<class 'pandas.core.frame.DataFrame'>\n",
      "RangeIndex: 758 entries, 0 to 757\n",
      "Data columns (total 4 columns):\n",
      " #   Column           Non-Null Count  Dtype         \n",
      "---  ------           --------------  -----         \n",
      " 0   ID da transação  758 non-null    object        \n",
      " 1   Data             758 non-null    datetime64[ns]\n",
      " 2   Receita          758 non-null    object        \n",
      " 3   Quantidade       758 non-null    float64       \n",
      "dtypes: datetime64[ns](1), float64(1), object(2)\n",
      "memory usage: 23.8+ KB\n"
     ]
    }
   ],
   "source": [
    "df_vendas.info()"
   ]
  },
  {
   "cell_type": "code",
   "execution_count": 19,
   "id": "92d3d459",
   "metadata": {
    "scrolled": true
   },
   "outputs": [],
   "source": [
    "df_vendas['Receita'] = df_vendas['Receita'].map(replace_comma)"
   ]
  },
  {
   "cell_type": "code",
   "execution_count": 20,
   "id": "841ad8d3",
   "metadata": {
    "scrolled": true
   },
   "outputs": [
    {
     "name": "stdout",
     "output_type": "stream",
     "text": [
      "<class 'pandas.core.frame.DataFrame'>\n",
      "RangeIndex: 758 entries, 0 to 757\n",
      "Data columns (total 4 columns):\n",
      " #   Column           Non-Null Count  Dtype         \n",
      "---  ------           --------------  -----         \n",
      " 0   ID da transação  758 non-null    object        \n",
      " 1   Data             758 non-null    datetime64[ns]\n",
      " 2   Receita          758 non-null    float64       \n",
      " 3   Quantidade       758 non-null    float64       \n",
      "dtypes: datetime64[ns](1), float64(2), object(1)\n",
      "memory usage: 23.8+ KB\n"
     ]
    }
   ],
   "source": [
    "df_vendas.info()"
   ]
  },
  {
   "cell_type": "code",
   "execution_count": 22,
   "id": "86191c4f",
   "metadata": {},
   "outputs": [
    {
     "data": {
      "text/html": [
       "<div>\n",
       "<style scoped>\n",
       "    .dataframe tbody tr th:only-of-type {\n",
       "        vertical-align: middle;\n",
       "    }\n",
       "\n",
       "    .dataframe tbody tr th {\n",
       "        vertical-align: top;\n",
       "    }\n",
       "\n",
       "    .dataframe thead th {\n",
       "        text-align: right;\n",
       "    }\n",
       "</style>\n",
       "<table border=\"1\" class=\"dataframe\">\n",
       "  <thead>\n",
       "    <tr style=\"text-align: right;\">\n",
       "      <th></th>\n",
       "      <th>ID da transação</th>\n",
       "      <th>Data</th>\n",
       "      <th>Receita</th>\n",
       "      <th>Quantidade</th>\n",
       "    </tr>\n",
       "  </thead>\n",
       "  <tbody>\n",
       "    <tr>\n",
       "      <th>753</th>\n",
       "      <td>11688</td>\n",
       "      <td>2022-05-31</td>\n",
       "      <td>1430.0</td>\n",
       "      <td>4.0</td>\n",
       "    </tr>\n",
       "    <tr>\n",
       "      <th>754</th>\n",
       "      <td>0</td>\n",
       "      <td>2021-11-15</td>\n",
       "      <td>1434.2</td>\n",
       "      <td>6.0</td>\n",
       "    </tr>\n",
       "    <tr>\n",
       "      <th>755</th>\n",
       "      <td>11225</td>\n",
       "      <td>2021-12-03</td>\n",
       "      <td>1436.7</td>\n",
       "      <td>5.0</td>\n",
       "    </tr>\n",
       "    <tr>\n",
       "      <th>756</th>\n",
       "      <td>11221</td>\n",
       "      <td>2021-12-01</td>\n",
       "      <td>1634.2</td>\n",
       "      <td>4.0</td>\n",
       "    </tr>\n",
       "    <tr>\n",
       "      <th>757</th>\n",
       "      <td>0</td>\n",
       "      <td>2021-12-07</td>\n",
       "      <td>2978.1</td>\n",
       "      <td>9.0</td>\n",
       "    </tr>\n",
       "  </tbody>\n",
       "</table>\n",
       "</div>"
      ],
      "text/plain": [
       "    ID da transação       Data  Receita  Quantidade\n",
       "753           11688 2022-05-31   1430.0         4.0\n",
       "754               0 2021-11-15   1434.2         6.0\n",
       "755           11225 2021-12-03   1436.7         5.0\n",
       "756           11221 2021-12-01   1634.2         4.0\n",
       "757               0 2021-12-07   2978.1         9.0"
      ]
     },
     "execution_count": 22,
     "metadata": {},
     "output_type": "execute_result"
    }
   ],
   "source": [
    "df_vendas.tail()"
   ]
  },
  {
   "cell_type": "code",
   "execution_count": 23,
   "id": "929b24f3",
   "metadata": {},
   "outputs": [
    {
     "name": "stderr",
     "output_type": "stream",
     "text": [
      "/tmp/ipykernel_8400/4185496646.py:2: FutureWarning: Dropping of nuisance columns in DataFrame reductions (with 'numeric_only=None') is deprecated; in a future version this will raise TypeError.  Select only valid columns before calling the reduction.\n",
      "  df_vendas.sum()\n"
     ]
    },
    {
     "data": {
      "text/plain": [
       "ID da transação    1134910720107351074210732107541078601078910759...\n",
       "Receita                                                     303241.8\n",
       "Quantidade                                                    1044.0\n",
       "dtype: object"
      ]
     },
     "execution_count": 23,
     "metadata": {},
     "output_type": "execute_result"
    }
   ],
   "source": [
    "#Conferindo se a soma de receita e quantidade está de acordo com Google Analytics: TUDO OK\n",
    "df_vendas.sum()"
   ]
  },
  {
   "cell_type": "code",
   "execution_count": 24,
   "id": "cfc85e82",
   "metadata": {
    "scrolled": false
   },
   "outputs": [
    {
     "data": {
      "text/plain": [
       "0"
      ]
     },
     "execution_count": 24,
     "metadata": {},
     "output_type": "execute_result"
    }
   ],
   "source": [
    "#Verificando duplicatas\n",
    "df_vendas.duplicated().sum() "
   ]
  },
  {
   "cell_type": "code",
   "execution_count": 25,
   "id": "9363d95d",
   "metadata": {},
   "outputs": [
    {
     "data": {
      "text/html": [
       "<div>\n",
       "<style scoped>\n",
       "    .dataframe tbody tr th:only-of-type {\n",
       "        vertical-align: middle;\n",
       "    }\n",
       "\n",
       "    .dataframe tbody tr th {\n",
       "        vertical-align: top;\n",
       "    }\n",
       "\n",
       "    .dataframe thead th {\n",
       "        text-align: right;\n",
       "    }\n",
       "</style>\n",
       "<table border=\"1\" class=\"dataframe\">\n",
       "  <thead>\n",
       "    <tr style=\"text-align: right;\">\n",
       "      <th></th>\n",
       "      <th>ID da transação</th>\n",
       "      <th>Data</th>\n",
       "      <th>Receita</th>\n",
       "      <th>Quantidade</th>\n",
       "    </tr>\n",
       "  </thead>\n",
       "  <tbody>\n",
       "    <tr>\n",
       "      <th>0</th>\n",
       "      <td>11349</td>\n",
       "      <td>2022-01-26</td>\n",
       "      <td>0.00</td>\n",
       "      <td>4.0</td>\n",
       "    </tr>\n",
       "    <tr>\n",
       "      <th>1</th>\n",
       "      <td>10720</td>\n",
       "      <td>2021-04-12</td>\n",
       "      <td>15.94</td>\n",
       "      <td>1.0</td>\n",
       "    </tr>\n",
       "    <tr>\n",
       "      <th>2</th>\n",
       "      <td>10735</td>\n",
       "      <td>2021-04-17</td>\n",
       "      <td>16.06</td>\n",
       "      <td>1.0</td>\n",
       "    </tr>\n",
       "    <tr>\n",
       "      <th>3</th>\n",
       "      <td>10742</td>\n",
       "      <td>2021-04-19</td>\n",
       "      <td>16.06</td>\n",
       "      <td>1.0</td>\n",
       "    </tr>\n",
       "    <tr>\n",
       "      <th>4</th>\n",
       "      <td>10732</td>\n",
       "      <td>2021-04-16</td>\n",
       "      <td>20.48</td>\n",
       "      <td>1.0</td>\n",
       "    </tr>\n",
       "  </tbody>\n",
       "</table>\n",
       "</div>"
      ],
      "text/plain": [
       "  ID da transação       Data  Receita  Quantidade\n",
       "0           11349 2022-01-26     0.00         4.0\n",
       "1           10720 2021-04-12    15.94         1.0\n",
       "2           10735 2021-04-17    16.06         1.0\n",
       "3           10742 2021-04-19    16.06         1.0\n",
       "4           10732 2021-04-16    20.48         1.0"
      ]
     },
     "execution_count": 25,
     "metadata": {},
     "output_type": "execute_result"
    }
   ],
   "source": [
    "df_vendas.head()"
   ]
  },
  {
   "cell_type": "code",
   "execution_count": 35,
   "id": "12d3ae56",
   "metadata": {},
   "outputs": [
    {
     "data": {
      "text/plain": [
       "3"
      ]
     },
     "execution_count": 35,
     "metadata": {},
     "output_type": "execute_result"
    }
   ],
   "source": [
    "df_vendas['Data'].dt.year.nunique()"
   ]
  },
  {
   "cell_type": "code",
   "execution_count": 37,
   "id": "c1226cfd",
   "metadata": {},
   "outputs": [
    {
     "data": {
      "text/html": [
       "<div>\n",
       "<style scoped>\n",
       "    .dataframe tbody tr th:only-of-type {\n",
       "        vertical-align: middle;\n",
       "    }\n",
       "\n",
       "    .dataframe tbody tr th {\n",
       "        vertical-align: top;\n",
       "    }\n",
       "\n",
       "    .dataframe thead th {\n",
       "        text-align: right;\n",
       "    }\n",
       "</style>\n",
       "<table border=\"1\" class=\"dataframe\">\n",
       "  <thead>\n",
       "    <tr style=\"text-align: right;\">\n",
       "      <th></th>\n",
       "      <th>ID da transação</th>\n",
       "      <th>Data</th>\n",
       "      <th>Receita</th>\n",
       "      <th>Quantidade</th>\n",
       "    </tr>\n",
       "  </thead>\n",
       "  <tbody>\n",
       "    <tr>\n",
       "      <th>753</th>\n",
       "      <td>11688</td>\n",
       "      <td>2022-05-31</td>\n",
       "      <td>1430.0</td>\n",
       "      <td>4.0</td>\n",
       "    </tr>\n",
       "    <tr>\n",
       "      <th>754</th>\n",
       "      <td>0</td>\n",
       "      <td>2021-11-15</td>\n",
       "      <td>1434.2</td>\n",
       "      <td>6.0</td>\n",
       "    </tr>\n",
       "    <tr>\n",
       "      <th>755</th>\n",
       "      <td>11225</td>\n",
       "      <td>2021-12-03</td>\n",
       "      <td>1436.7</td>\n",
       "      <td>5.0</td>\n",
       "    </tr>\n",
       "    <tr>\n",
       "      <th>756</th>\n",
       "      <td>11221</td>\n",
       "      <td>2021-12-01</td>\n",
       "      <td>1634.2</td>\n",
       "      <td>4.0</td>\n",
       "    </tr>\n",
       "    <tr>\n",
       "      <th>757</th>\n",
       "      <td>0</td>\n",
       "      <td>2021-12-07</td>\n",
       "      <td>2978.1</td>\n",
       "      <td>9.0</td>\n",
       "    </tr>\n",
       "  </tbody>\n",
       "</table>\n",
       "</div>"
      ],
      "text/plain": [
       "    ID da transação       Data  Receita  Quantidade\n",
       "753           11688 2022-05-31   1430.0         4.0\n",
       "754               0 2021-11-15   1434.2         6.0\n",
       "755           11225 2021-12-03   1436.7         5.0\n",
       "756           11221 2021-12-01   1634.2         4.0\n",
       "757               0 2021-12-07   2978.1         9.0"
      ]
     },
     "execution_count": 37,
     "metadata": {},
     "output_type": "execute_result"
    }
   ],
   "source": [
    "df_vendas.tail()"
   ]
  },
  {
   "cell_type": "markdown",
   "id": "afe37086",
   "metadata": {},
   "source": [
    "# Análise\n",
    "\n"
   ]
  },
  {
   "cell_type": "code",
   "execution_count": null,
   "id": "3d710cf3",
   "metadata": {},
   "outputs": [],
   "source": [
    "df_vendas.head()"
   ]
  },
  {
   "cell_type": "code",
   "execution_count": 41,
   "id": "87d3460a",
   "metadata": {},
   "outputs": [
    {
     "data": {
      "text/plain": [
       "<AxesSubplot:title={'center':'Total de receita anual do comércio eletrónico(R$) na Web até 23/08/2022'}, xlabel='Data'>"
      ]
     },
     "execution_count": 41,
     "metadata": {},
     "output_type": "execute_result"
    },
    {
     "data": {
      "image/png": "[encoded data removed]",
      "text/plain": [
       "<Figure size 640x480 with 1 Axes>"
      ]
     },
     "metadata": {},
     "output_type": "display_data"
    }
   ],
   "source": [
    "plt.title('Total de receita anual do comércio eletrónico(R$) na Web até 23/08/2022')\n",
    "df_vendas['Receita'].groupby(df_vendas['Data'].dt.year).sum().plot(kind='bar')"
   ]
  },
  {
   "cell_type": "code",
   "execution_count": 42,
   "id": "a73c4523",
   "metadata": {},
   "outputs": [
    {
     "data": {
      "text/plain": [
       "<AxesSubplot:title={'center':'Quantidade de unidades vendidas no comércio eletrônico até 23/08/2022'}, xlabel='Data'>"
      ]
     },
     "execution_count": 42,
     "metadata": {},
     "output_type": "execute_result"
    },
    {
     "data": {
      "image/png": "[encoded data removed]",
      "text/plain": [
       "<Figure size 640x480 with 1 Axes>"
      ]
     },
     "metadata": {},
     "output_type": "display_data"
    }
   ],
   "source": [
    "plt.title('Quantidade de unidades vendidas no comércio eletrônico até 23/08/2022')\n",
    "df_vendas['Quantidade'].groupby(df_vendas['Data'].dt.year).sum().plot(kind='bar')"
   ]
  },
  {
   "cell_type": "code",
   "execution_count": 46,
   "id": "59a9bb02",
   "metadata": {},
   "outputs": [
    {
     "data": {
      "text/plain": [
       "(array([173., 467.,  85.,  22.,   9.,   1.,   0.,   0.,   0.,   1.]),\n",
       " array([   0.  ,  297.81,  595.62,  893.43, 1191.24, 1489.05, 1786.86,\n",
       "        2084.67, 2382.48, 2680.29, 2978.1 ]),\n",
       " <BarContainer object of 10 artists>)"
      ]
     },
     "execution_count": 46,
     "metadata": {},
     "output_type": "execute_result"
    },
    {
     "data": {
      "image/png": "[encoded data removed]",
      "text/plain": [
       "<Figure size 640x480 with 1 Axes>"
      ]
     },
     "metadata": {},
     "output_type": "display_data"
    }
   ],
   "source": [
    "plt.hist(df_vendas['Receita'])"
   ]
  },
  {
   "cell_type": "markdown",
   "id": "565f99c5",
   "metadata": {},
   "source": [
    "- quantidade x receita"
   ]
  },
  {
   "cell_type": "code",
   "execution_count": 50,
   "id": "1450b4ed",
   "metadata": {},
   "outputs": [
    {
     "data": {
      "text/plain": [
       "[<matplotlib.lines.Line2D at 0x7f4bdfe12910>]"
      ]
     },
     "execution_count": 50,
     "metadata": {},
     "output_type": "execute_result"
    },
    {
     "data": {
      "image/png": "[encoded data removed]",
      "text/plain": [
       "<Figure size 640x480 with 1 Axes>"
      ]
     },
     "metadata": {},
     "output_type": "display_data"
    }
   ],
   "source": [
    "plt.title('Receita ao longo do tempo até 23/08/2022')\n",
    "plt.plot(df_vendas['Receita'])"
   ]
  },
  {
   "cell_type": "code",
   "execution_count": 54,
   "id": "f04851d6",
   "metadata": {},
   "outputs": [
    {
     "data": {
      "text/plain": [
       "0     0.00\n",
       "1    15.94\n",
       "2    16.06\n",
       "3    16.06\n",
       "4    20.48\n",
       "Name: Receita, dtype: float64"
      ]
     },
     "execution_count": 54,
     "metadata": {},
     "output_type": "execute_result"
    }
   ],
   "source": [
    "df_vendas['Receita'].head()"
   ]
  },
  {
   "cell_type": "code",
   "execution_count": 56,
   "id": "614189dc",
   "metadata": {},
   "outputs": [
    {
     "data": {
      "text/html": [
       "<div>\n",
       "<style scoped>\n",
       "    .dataframe tbody tr th:only-of-type {\n",
       "        vertical-align: middle;\n",
       "    }\n",
       "\n",
       "    .dataframe tbody tr th {\n",
       "        vertical-align: top;\n",
       "    }\n",
       "\n",
       "    .dataframe thead th {\n",
       "        text-align: right;\n",
       "    }\n",
       "</style>\n",
       "<table border=\"1\" class=\"dataframe\">\n",
       "  <thead>\n",
       "    <tr style=\"text-align: right;\">\n",
       "      <th></th>\n",
       "      <th>ID da transação</th>\n",
       "      <th>Data</th>\n",
       "      <th>Receita</th>\n",
       "      <th>Quantidade</th>\n",
       "      <th>Receita_Acum</th>\n",
       "    </tr>\n",
       "  </thead>\n",
       "  <tbody>\n",
       "    <tr>\n",
       "      <th>0</th>\n",
       "      <td>11349</td>\n",
       "      <td>2022-01-26</td>\n",
       "      <td>0.00</td>\n",
       "      <td>4.0</td>\n",
       "      <td>0.00</td>\n",
       "    </tr>\n",
       "    <tr>\n",
       "      <th>1</th>\n",
       "      <td>10720</td>\n",
       "      <td>2021-04-12</td>\n",
       "      <td>15.94</td>\n",
       "      <td>1.0</td>\n",
       "      <td>15.94</td>\n",
       "    </tr>\n",
       "    <tr>\n",
       "      <th>2</th>\n",
       "      <td>10735</td>\n",
       "      <td>2021-04-17</td>\n",
       "      <td>16.06</td>\n",
       "      <td>1.0</td>\n",
       "      <td>32.00</td>\n",
       "    </tr>\n",
       "    <tr>\n",
       "      <th>3</th>\n",
       "      <td>10742</td>\n",
       "      <td>2021-04-19</td>\n",
       "      <td>16.06</td>\n",
       "      <td>1.0</td>\n",
       "      <td>48.06</td>\n",
       "    </tr>\n",
       "    <tr>\n",
       "      <th>4</th>\n",
       "      <td>10732</td>\n",
       "      <td>2021-04-16</td>\n",
       "      <td>20.48</td>\n",
       "      <td>1.0</td>\n",
       "      <td>68.54</td>\n",
       "    </tr>\n",
       "  </tbody>\n",
       "</table>\n",
       "</div>"
      ],
      "text/plain": [
       "  ID da transação       Data  Receita  Quantidade  Receita_Acum\n",
       "0           11349 2022-01-26     0.00         4.0          0.00\n",
       "1           10720 2021-04-12    15.94         1.0         15.94\n",
       "2           10735 2021-04-17    16.06         1.0         32.00\n",
       "3           10742 2021-04-19    16.06         1.0         48.06\n",
       "4           10732 2021-04-16    20.48         1.0         68.54"
      ]
     },
     "execution_count": 56,
     "metadata": {},
     "output_type": "execute_result"
    }
   ],
   "source": [
    "#df_vendas['Receita_Acum'] \n",
    "df_vendas['Receita_Acum'] = df_vendas['Receita'].cumsum()\n",
    "df_vendas.head()"
   ]
  },
  {
   "cell_type": "code",
   "execution_count": 57,
   "id": "9b12a0b4",
   "metadata": {
    "scrolled": true
   },
   "outputs": [
    {
     "data": {
      "text/html": [
       "<div>\n",
       "<style scoped>\n",
       "    .dataframe tbody tr th:only-of-type {\n",
       "        vertical-align: middle;\n",
       "    }\n",
       "\n",
       "    .dataframe tbody tr th {\n",
       "        vertical-align: top;\n",
       "    }\n",
       "\n",
       "    .dataframe thead th {\n",
       "        text-align: right;\n",
       "    }\n",
       "</style>\n",
       "<table border=\"1\" class=\"dataframe\">\n",
       "  <thead>\n",
       "    <tr style=\"text-align: right;\">\n",
       "      <th></th>\n",
       "      <th>ID da transação</th>\n",
       "      <th>Data</th>\n",
       "      <th>Receita</th>\n",
       "      <th>Quantidade</th>\n",
       "      <th>Receita_Acum</th>\n",
       "      <th>Quantidade_Acum</th>\n",
       "    </tr>\n",
       "  </thead>\n",
       "  <tbody>\n",
       "    <tr>\n",
       "      <th>0</th>\n",
       "      <td>11349</td>\n",
       "      <td>2022-01-26</td>\n",
       "      <td>0.00</td>\n",
       "      <td>4.0</td>\n",
       "      <td>0.00</td>\n",
       "      <td>4.0</td>\n",
       "    </tr>\n",
       "    <tr>\n",
       "      <th>1</th>\n",
       "      <td>10720</td>\n",
       "      <td>2021-04-12</td>\n",
       "      <td>15.94</td>\n",
       "      <td>1.0</td>\n",
       "      <td>15.94</td>\n",
       "      <td>5.0</td>\n",
       "    </tr>\n",
       "    <tr>\n",
       "      <th>2</th>\n",
       "      <td>10735</td>\n",
       "      <td>2021-04-17</td>\n",
       "      <td>16.06</td>\n",
       "      <td>1.0</td>\n",
       "      <td>32.00</td>\n",
       "      <td>6.0</td>\n",
       "    </tr>\n",
       "    <tr>\n",
       "      <th>3</th>\n",
       "      <td>10742</td>\n",
       "      <td>2021-04-19</td>\n",
       "      <td>16.06</td>\n",
       "      <td>1.0</td>\n",
       "      <td>48.06</td>\n",
       "      <td>7.0</td>\n",
       "    </tr>\n",
       "    <tr>\n",
       "      <th>4</th>\n",
       "      <td>10732</td>\n",
       "      <td>2021-04-16</td>\n",
       "      <td>20.48</td>\n",
       "      <td>1.0</td>\n",
       "      <td>68.54</td>\n",
       "      <td>8.0</td>\n",
       "    </tr>\n",
       "  </tbody>\n",
       "</table>\n",
       "</div>"
      ],
      "text/plain": [
       "  ID da transação       Data  Receita  Quantidade  Receita_Acum  \\\n",
       "0           11349 2022-01-26     0.00         4.0          0.00   \n",
       "1           10720 2021-04-12    15.94         1.0         15.94   \n",
       "2           10735 2021-04-17    16.06         1.0         32.00   \n",
       "3           10742 2021-04-19    16.06         1.0         48.06   \n",
       "4           10732 2021-04-16    20.48         1.0         68.54   \n",
       "\n",
       "   Quantidade_Acum  \n",
       "0              4.0  \n",
       "1              5.0  \n",
       "2              6.0  \n",
       "3              7.0  \n",
       "4              8.0  "
      ]
     },
     "execution_count": 57,
     "metadata": {},
     "output_type": "execute_result"
    }
   ],
   "source": [
    "df_vendas['Quantidade_Acum'] = df_vendas['Quantidade'].cumsum()\n",
    "df_vendas.head()"
   ]
  },
  {
   "cell_type": "markdown",
   "id": "f4ffe166",
   "metadata": {},
   "source": [
    "# CSV : Desempenho do produto"
   ]
  },
  {
   "cell_type": "code",
   "execution_count": null,
   "id": "f76d6d7a",
   "metadata": {},
   "outputs": [],
   "source": []
  }
 ],
 "metadata": {
  "kernelspec": {
   "display_name": "Python 3 (ipykernel)",
   "language": "python",
   "name": "python3"
  },
  "language_info": {
   "codemirror_mode": {
    "name": "ipython",
    "version": 3
   },
   "file_extension": ".py",
   "mimetype": "text/x-python",
   "name": "python",
   "nbconvert_exporter": "python",
   "pygments_lexer": "ipython3",
   "version": "3.8.12"
  },
  "toc": {
   "base_numbering": 1,
   "nav_menu": {},
   "number_sections": true,
   "sideBar": true,
   "skip_h1_title": false,
   "title_cell": "Table of Contents",
   "title_sidebar": "Contents",
   "toc_cell": false,
   "toc_position": {},
   "toc_section_display": true,
   "toc_window_display": false
  }
 },
 "nbformat": 4,
 "nbformat_minor": 5
}
